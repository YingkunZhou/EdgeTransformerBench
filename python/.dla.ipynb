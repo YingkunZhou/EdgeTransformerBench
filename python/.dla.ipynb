{
 "cells": [
  {
   "cell_type": "code",
   "execution_count": null,
   "metadata": {},
   "outputs": [],
   "source": [
    "# for tensorrt\n",
    "import sys\n",
    "sys.path.append(\"/usr/lib/python3.8/dist-packages\")\n",
    "# pip install torch\n",
    "# conda create -n torch python=3.8\n",
    "# pip install --upgrade --force-reinstall --no-cache-dir jupyter\n",
    "# wget https://developer.download.nvidia.cn/compute/redist/jp/v512/pytorch/torch-2.1.0a0+41361538.nv23.06-cp38-cp38-linux_aarch64.whl\n",
    "# pip install torch-2.1.0a0+41361538.nv23.06-cp38-cp38-linux_aarch64.whl\n",
    "# cp ~/miniforge3/lib/python3.10/site-packages/torch.libs/libopenblasp-r0-85d5f42e.3.25.so ~/miniforge3/envs/torch/lib/python3.8/site-packages/torch/lib/libopenblas.so.0\n",
    "# cp ~/miniforge3/lib/python3.10/site-packages/torch.libs/libgfortran-ce5ddccd.so.5.0.0 ~/miniforge3/envs/torch/lib/python3.8/site-packages/torch/lib"
   ]
  },
  {
   "cell_type": "markdown",
   "metadata": {},
   "source": [
    "# Getting started with the Deep Learning Accelerator on NVIDIA Jetson Orin\n",
    "\n",
    "In this tutorial, we’ll develop a neural network that utilizes the Deep Learning Accelerator (DLA) on Jetson Orin.  In case you’re unfamiliar, the DLA is an application specific integrated circuit on Jetson Xavier and Orin that is capable of running common deep learning inference operations, such as convolutions.  This dedicated hardware is power efficient, and allows you to offload work from the GPU, freeing it for other tasks.  If you’re interested in better utilizing the full capabilities of your Jetson platform, this tutorial is for you.\n",
    "\n",
    "To demonstrate how to use the DLA, we’ll run through the entire modeling process; from designing and training an architecture in PyTorch, to calibrating the model for INT8 precision, to profiling and validating the model.  We hope this will give you a better understanding of how to use the DLA, as well as its capabilities and limitations.  Understanding this information early on is important, as it will help you make design decisions to ensure your model can be easily accelerated by the DLA, enabling you to further unlock the capabilities of Jetson Orin.\n",
    "\n",
    "Let’s get started!\n",
    "\n",
    "> Tip:  You can easily recreate the models covered in this tutorial yourself!  Check out [``QUICKSTART.md``](QUICKSTART.md) for instructions on how to use the code contained in this repository.\n",
    "\n",
    "## Overview\n",
    "\n",
    "- [Step 1 - Define a model in PyTorch](#step-1)\n",
    "- [Step 2 - Export the model to ONNX](#step-2)\n",
    "- [Step 3 - Optimize the untrained model using TensorRT](#step-3)\n",
    "- [Step 4 - Profile with Nvidia Visual Profiler](#step-4)\n",
    "- [Step 5 - Modify model for better DLA utilization](#step-5)\n",
    "- [Step 6 - Train the model](#step-6)\n",
    "- [Step 7 - Optimize the model (using real weights and calibration data)](#step-7)\n",
    "- [Step 8 - Evaluate the accuracy of the optimized model](#step-8)\n",
    "- [Step 9 - Modify trained model with ONNX graph surgeon](#step-9)\n",
    "- [Next Steps](#next-steps)"
   ]
  },
  {
   "cell_type": "markdown",
   "metadata": {},
   "source": [
    "<a id=\"step-1\"></a>\n",
    "## Step 1 - Define a model in PyTorch\n",
    "\n",
    "First, let’s define our PyTorch model.  We’ll create a simple CNN image classification model targeting the CIFAR10 dataset.  To demonstrate the process of identifying and replacing unsupported layers, we will intentionally use the GroupNorm normalization layer, which is not currently supported by the DLA."
   ]
  },
  {
   "cell_type": "code",
   "execution_count": null,
   "metadata": {},
   "outputs": [],
   "source": [
    "import torch\n",
    "import torch.nn as nn"
   ]
  },
  {
   "cell_type": "code",
   "execution_count": null,
   "metadata": {},
   "outputs": [],
   "source": [
    "class ModelGN(nn.Module):\n",
    "    def __init__(self, num_classes):\n",
    "        super().__init__()\n",
    "        self.cnn = nn.Sequential(\n",
    "            nn.Conv2d(3, 64, kernel_size=3, stride=2, padding=1),\n",
    "            nn.GroupNorm(8, 64),\n",
    "            nn.ReLU(),\n",
    "            nn.Conv2d(64, 128, kernel_size=3, stride=2, padding=1),\n",
    "            nn.GroupNorm(8, 128),\n",
    "            nn.ReLU(),\n",
    "            nn.Conv2d(128, 256, kernel_size=3, stride=2, padding=1),\n",
    "            nn.GroupNorm(8, 256),\n",
    "            nn.ReLU(),\n",
    "            nn.Conv2d(256, 512, kernel_size=3, stride=2, padding=1),\n",
    "            nn.GroupNorm(8, 512),\n",
    "            nn.ReLU()\n",
    "        )\n",
    "        self.pool = nn.AdaptiveAvgPool2d((1, 1))\n",
    "        self.linear = nn.Linear(512, num_classes)\n",
    "\n",
    "    def forward(self, x):\n",
    "        x = self.cnn(x)\n",
    "        x = self.pool(x)\n",
    "        x = x.view(x.shape[0], -1)\n",
    "        x = self.linear(x)\n",
    "        return x\n",
    "\n",
    "model_gn = ModelGN(num_classes=10).cuda().eval()"
   ]
  },
  {
   "cell_type": "markdown",
   "metadata": {},
   "source": [
    "That’s it, our initial PyTorch model is now defined.  We could proceed with training this model, but often training is a time consuming task.  Instead, let’s try running our model on the DLA with TensorRT with dummy weights, just to see how it performs."
   ]
  },
  {
   "cell_type": "markdown",
   "metadata": {},
   "source": [
    "<a id=\"step-2\"></a>\n",
    "## Step 2 - Export the model to ONNX\n",
    "\n",
    "To run our model on the DLA, we need to use the TensorRT neural network inference library by NVIDIA.  TensorRT is a framework that ingests a neural network graph description, and performs a variety of platform specific optimizations, including but not limited to running layers on the DLA.  The optimizations result in a TensorRT engine, which may be executed using the TensorRT runtime.\n",
    "\n",
    "There are a few different utilities for converting and building TensorRT engines from PyTorch models, each with their own benefits.  Here we will use the PyTorch -> ONNX -> TensorRT workflow.  To do this, we first export our model to ONNX as follows"
   ]
  },
  {
   "cell_type": "code",
   "execution_count": null,
   "metadata": {},
   "outputs": [],
   "source": [
    "data = torch.zeros(1, 3, 32, 32).cuda()\n",
    "\n",
    "torch.onnx.export(model_gn, data, 'model_gn.onnx',\n",
    "    input_names=['input'],\n",
    "    output_names=['output'],\n",
    "    dynamic_axes={\n",
    "        'input': {0: 'batch_size'},\n",
    "        'output': {0: 'batch_size'}\n",
    "    }\n",
    ")"
   ]
  },
  {
   "cell_type": "markdown",
   "metadata": {},
   "source": [
    "Note that we specify dynamic axes for the input and output batch dimensions.  By enabling dynamic batch axes, we can then generate a TensorRT engine which is capable of using batch sizes larger than the size of the example data used when exporting to ONNX."
   ]
  },
  {
   "cell_type": "markdown",
   "metadata": {},
   "source": [
    "<a id=\"step-3\"></a>\n",
    "## Step 3 - Optimize the untrained model using TensorRT\n",
    "\n",
    "To build our TensorRT engine, we can use the trtexec tool, which is installed on Jetson at the location /usr/src/tensorrt/bin/trtexec.  Let’s create an alias for this\n",
    "\n",
    "```bash\n",
    "alias trtexec=/usr/src/tensorrt/bin/trtexec\n",
    "```\n",
    "\n",
    "Now, we can call trtexec and specify the parameters we wish to use for optimization.  The command we use is as follows\n",
    "\n",
    "```bash\n",
    "trtexec --onnx=model_gn.onnx --shapes=input:32x3x32x32 --saveEngine=model_gn.engine --exportProfile=model_gn.json --int8 --useDLACore=0 --allowGPUFallback --useSpinWait --separateProfileRun > model_gn.log\n",
    "```\n",
    "\n",
    "- ``--onnx`` - The input ONNX file path.\n",
    "- ``--shapes`` - The shapes for input bindings, we specify a batch size of 32.\n",
    "- ``--saveEngine`` - The path to save the optimized TensorRT engine.\n",
    "- ``--exportProfile`` - The path to output a JSON file containing layer granularity timings.\n",
    "- ``--int8`` - Enable INT8 precision.  This is required for best performance on Orin DLA.\n",
    "- ``--useDLACore=0`` - The DLA core to use for all compatible layers.\n",
    "- ``--allowGPUFallback`` - Allow TensorRT to run layers on GPU that aren't supported on DLA.\n",
    "- ``--useSpinWait`` - Synchronize GPU events, for improved profiling stability.\n",
    "- ``--separateProfileRun`` - Perform a separate run for layer profiling.\n",
    "- ``> model_gn.log`` - Capture the output into a file named ``model_gn.log``\n",
    "\n",
    "The ``trtexec`` program will log information related to the optimization and profiling processes.  One notable output is the collection of layers running on the DLA.  After calling ``trtexec`` to build and profile our model on GPU, we see the following output\n",
    "\n",
    "```bash\n",
    "[02/22/2024-21:37:18] [I] [TRT] ---------- Layers Running on DLA ----------\n",
    "[02/22/2024-21:37:18] [I] [TRT] [DlaLayer] {ForeignNode[/cnn/cnn.0/Conv]}\n",
    "[02/22/2024-21:37:18] [I] [TRT] [DlaLayer] {ForeignNode[/cnn/cnn.2/Relu.../cnn/cnn.3/Conv]}\n",
    "[02/22/2024-21:37:18] [I] [TRT] [DlaLayer] {ForeignNode[/cnn/cnn.5/Relu.../cnn/cnn.6/Conv]}\n",
    "[02/22/2024-21:37:18] [I] [TRT] [DlaLayer] {ForeignNode[/cnn/cnn.8/Relu.../cnn/cnn.9/Conv]}\n",
    "[02/22/2024-21:37:18] [I] [TRT] [DlaLayer] {ForeignNode[/cnn/cnn.11/Relu]}\n",
    "[02/22/2024-21:37:18] [I] [TRT] [DlaLayer] {ForeignNode[/linear/Gemm]}\n",
    "[02/22/2024-21:37:18] [I] [TRT] ---------- Layers Running on GPU ----------\n",
    "[02/22/2024-21:37:18] [I] [TRT] [GpuLayer] SHUFFLE: /cnn/cnn.1/Reshape + (Unnamed Layer* 7) [Shuffle]\n",
    "[02/22/2024-21:37:18] [I] [TRT] [GpuLayer] PLUGIN_V2: /cnn/cnn.1/InstanceNormalization\n",
    "[02/22/2024-21:37:18] [I] [TRT] [GpuLayer] SHUFFLE: (Unnamed Layer* 12) [Shuffle] + /cnn/cnn.1/Reshape_1\n",
    "[02/22/2024-21:37:18] [I] [TRT] [GpuLayer] SHUFFLE: /cnn/cnn.4/Reshape + (Unnamed Layer* 29) [Shuffle]\n",
    "[02/22/2024-21:37:18] [I] [TRT] [GpuLayer] PLUGIN_V2: /cnn/cnn.4/InstanceNormalization\n",
    "[02/22/2024-21:37:18] [I] [TRT] [GpuLayer] SHUFFLE: (Unnamed Layer* 34) [Shuffle] + /cnn/cnn.4/Reshape_1\n",
    "[02/22/2024-21:37:18] [I] [TRT] [GpuLayer] SHUFFLE: /cnn/cnn.7/Reshape + (Unnamed Layer* 51) [Shuffle]\n",
    "[02/22/2024-21:37:18] [I] [TRT] [GpuLayer] PLUGIN_V2: /cnn/cnn.7/InstanceNormalization\n",
    "[02/22/2024-21:37:18] [I] [TRT] [GpuLayer] SHUFFLE: (Unnamed Layer* 56) [Shuffle] + /cnn/cnn.7/Reshape_1\n",
    "[02/22/2024-21:37:18] [I] [TRT] [GpuLayer] SHUFFLE: /cnn/cnn.10/Reshape + (Unnamed Layer* 73) [Shuffle]\n",
    "[02/22/2024-21:37:18] [I] [TRT] [GpuLayer] PLUGIN_V2: /cnn/cnn.10/InstanceNormalization\n",
    "[02/22/2024-21:37:18] [I] [TRT] [GpuLayer] SHUFFLE: (Unnamed Layer* 78) [Shuffle] + /cnn/cnn.10/Reshape_1\n",
    "[02/22/2024-21:37:18] [I] [TRT] [GpuLayer] POOLING: /pool/GlobalAveragePool\n",
    "[02/22/2024-21:37:18] [I] [TRT] [GpuLayer] SHUFFLE: reshape_after_/linear/Gemm\n",
    "```\n",
    "\n",
    "As we can see, several layers are running on the DLA as well as the GPU.  This indicates that our many layers were not compatible for execution on the DLA, and fell back to execution on the GPU.  Contiguous subgraphs that execute on the DLA will appear as one \"ForeignNode\" block.  Ideally, our entire model would appear as a single \"ForeignNode\" entry running on the DLA.\n",
    "\n",
    "In addition to this information, ``trtexec`` will report the number of batches executed per second.\n",
    "\n",
    "```bash\n",
    "[02/22/2024-21:37:27] [I] === Performance summary ===\n",
    "[02/22/2024-21:37:27] [I] Throughput: 512.001 qps\n",
    "```\n",
    "\n",
    "Here we see that the engine executes ``512.001`` batches per second.  Multiplying this number by the batch size results in the number of images per second.\n",
    "\n",
    "This coarse information is useful for determining how fast a model will run in practice, but provides little insight into what we can do to improve the model performance.\n",
    "\n",
    "Let's take a look at how we can use the Nvidia Visual Profiler, to provide a timeline trace of\n",
    "what's happening during our model execution."
   ]
  },
  {
   "cell_type": "markdown",
   "metadata": {},
   "source": [
    "<a id=\"step-4\"></a>\n",
    "## Step 4 - Profile with Nvidia Visual Profiler\n",
    "\n",
    "To collect data for visualization, we first need to profile our model.  To do this, we will use the ``nsys`` command line tool installed by on the NVIDIA Jetson Orin.  This tool is capable of collecting system profiling information during the execution of a provided program.\n",
    "\n",
    "We will call ``nsys profile`` using ``/usr/src/tensorrt/bin/trtexec`` as the executable to be profiled.  We will provide the engine we've already created in the previous step to ``trtexec`` to avoid profiling the entire optimization process.\n",
    "\n",
    "```bash\n",
    "nsys profile --trace=cuda,nvtx,cublas,cudla,cusparse,cudnn,nvmedia --output=model_gn.nvvp /usr/src/tensorrt/bin/trtexec --loadEngine=model_gn.engine --iterations=10 --idleTime=500 --duration=0 --useSpinWait\n",
    "```\n",
    "\n",
    "The notable ``nsys profile`` parameters are \n",
    "\n",
    "- ``--trace`` - Determines which events we want to capture during our profiling session.  Notably, ``nvmedia`` will capture calls to the DLA.  ``nvtx`` will capture application specific calls, which in this instance includes TensorRT layer executions.\n",
    "- ``--output=model_gn`` - Sets the output file that profiling information will be stored in.  This can be directly loaded with the NVIDIA Visual Profiler.\n",
    "\n",
    "The ``trtexec`` parameters are \n",
    "\n",
    "- ``--loadEngine=model_gn.engine`` - The path of the TensorRT engine we previously generated by calling ``trtexec`` with ``--saveEngine``\n",
    "- ``--iterations=10`` - Limit the number of iterations to 10, since we are interested in the fine-grained execution timeline, not larger statistical information.\n",
    "- ``--duration=0`` - Removes the minimum profiling duration, we only wish to profile 10 executions.\n",
    "- ``--idleTime=500`` - Adds a ``500ms`` wait time between executions, so we can more easily distinguish separate execution calls in the timeline view.\n",
    "- ``--useSpinWait`` - Adds explicit synchronization to improve profiling stability\n",
    "\n",
    "After calling the profiling command, we will generate the profiling data which we load into NVIDIA Visual Profiler.  \n",
    "\n",
    "Focusing on a single model execution call we see the following.\n",
    "\n",
    "The orange block, which is recorded when specifying ``--trace=nvtx``, shows the entire TensorRT engine execution call.  The yellow blocks, which are also captured by specifying ``--trace=nvtx``, show the individual TensorRT layer executions.  ~~The blocks in the row titled *Other Accelerators API* shows the DLA events.  As we can see, the DLA events are rather spaced out, with a variety of other events happening in between.~~  These other events take a significant portion of our model execution time.\n",
    "\n",
    "In this instance, the events in-between our DLA events are caused by the GraphNorm layer, which isn't supported by the DLA. The data is formatted for execution on the GPU, and the formatted again for execution on the DLA between each DLA block.  This overhead, since it recurs several times in our model, increases our overall runtime significantly.\n",
    "\n",
    "Determining which layer isn't supported by the DLA can be done by referencing warnings output from ``trtexec`` or even inspecting the kernel names in the profiling view for hints.  Sometimes the layer names don't map exactly to the original PyTorch layer, which can make this process more challenging.  In this instance, substituting or removing layers and testing the conversion can provide a definitive indication of what is supported or problematic.\n",
    "\n",
    "> Tip: Though not covered here, the TensorRT Python API allows you to inspect which TensorRT layers in the TensorRT network definition are able to run on the DLA.  We'll cover how to parse the ONNX model into a TensorRT network later in this tutorial.  You could use this representation to programatically check which layers are supported by the DLA in Python.  However, associating this information with the original PyTorch model may still present some challenge, because layers may be mapped from PyTorch to ONNX / TensorRT under different representation.  In these instances, sometimes iterativelly testing the conversion of submodules in your model is the easiest way to hone-in on an incompatible layer.\n",
    "\n",
    "By this analysis, we see that the GroupNorm layer, which has relatively low computational complexity, is introducing significant runtime do to the formatting overhead between GPU and DLA.  \n",
    "\n",
    "Let's try a different layer, that *is* supported by the DLA, to see how it improves our model performance."
   ]
  },
  {
   "cell_type": "markdown",
   "metadata": {},
   "source": [
    "<a id=\"step-5\"></a>\n",
    "## Step 5 - Modify model for better DLA utilization\n",
    "\n",
    "First, we modify our model definition, replacing all ``GroupNorm`` norm layers with ``BatchNorm2d`` layers.  "
   ]
  },
  {
   "cell_type": "code",
   "execution_count": null,
   "metadata": {},
   "outputs": [],
   "source": [
    "class ModelBN(nn.Module):\n",
    "    def __init__(self, num_classes):\n",
    "        super().__init__()\n",
    "        self.cnn = nn.Sequential(\n",
    "            nn.Conv2d(3, 64, kernel_size=3, stride=2, padding=1),\n",
    "            nn.BatchNorm2d(64),\n",
    "            nn.ReLU(),\n",
    "            nn.Conv2d(64, 128, kernel_size=3, stride=2, padding=1),\n",
    "            nn.BatchNorm2d(128),\n",
    "            nn.ReLU(),\n",
    "            nn.Conv2d(128, 256, kernel_size=3, stride=2, padding=1),\n",
    "            nn.BatchNorm2d(256),\n",
    "            nn.ReLU(),\n",
    "            nn.Conv2d(256, 512, kernel_size=3, stride=2, padding=1),\n",
    "            nn.BatchNorm2d(512),\n",
    "            nn.ReLU()\n",
    "        )\n",
    "        self.pool = nn.AdaptiveAvgPool2d((1, 1))\n",
    "        self.linear = nn.Linear(512, num_classes)\n",
    "\n",
    "    def forward(self, x):\n",
    "        x = self.cnn(x)\n",
    "        x = self.pool(x)\n",
    "        x = x.view(x.shape[0], -1)\n",
    "        x = self.linear(x)\n",
    "        return x\n",
    "\n",
    "model_bn = ModelBN(num_classes=10).cuda().eval()"
   ]
  },
  {
   "cell_type": "code",
   "execution_count": null,
   "metadata": {},
   "outputs": [],
   "source": [
    "data = torch.zeros(1, 3, 32, 32).cuda()\n",
    "\n",
    "torch.onnx.export(model_bn, data, 'model_bn.onnx',\n",
    "    input_names=['input'],\n",
    "    output_names=['output'],\n",
    "    dynamic_axes={\n",
    "        'input': {0: 'batch_size'},\n",
    "        'output': {0: 'batch_size'}\n",
    "    }\n",
    ")"
   ]
  },
  {
   "cell_type": "markdown",
   "metadata": {},
   "source": [
    "Third, we build and profile our TensorRT engine as before\n",
    "\n",
    "```bash\n",
    "trtexec --onnx=model_bn.onnx --shapes=input:32x3x32x32 --saveEngine=model_bn.engine --exportProfile=model_bn.json --int8 --useDLACore=0 --allowGPUFallback --useSpinWait --separateProfileRun > model_bn.log\n",
    "```\n",
    "\n",
    "Which outputs\n",
    "\n",
    "```bash\n",
    "[02/22/2024-22:01:13] [I] [TRT] ---------- Layers Running on DLA ----------\n",
    "[02/22/2024-22:01:13] [I] [TRT] [DlaLayer] {ForeignNode[/cnn/cnn.0/Conv.../cnn/cnn.11/Relu]}\n",
    "[02/22/2024-22:01:13] [I] [TRT] [DlaLayer] {ForeignNode[/linear/Gemm]}\n",
    "[02/22/2024-22:01:13] [I] [TRT] ---------- Layers Running on GPU ----------\n",
    "[02/22/2024-22:01:13] [I] [TRT] [GpuLayer] POOLING: /pool/GlobalAveragePool\n",
    "[02/22/2024-22:01:13] [I] [TRT] [GpuLayer] SHUFFLE: reshape_after_/linear/Gemm\n",
    "```\n",
    "\n",
    "As we can see, there are significantly fewer layers running on the GPU as well as the DLA.  This is an indication that more layers (Conv_0...Relu_7) were merged into a single \"ForeignNode\" block for execution on the DLA.  \n",
    "\n",
    "This is a good sign!  And as seen below, the performance of our model has approximately doubled!\n",
    "\n",
    "```bash\n",
    "[02/22/2024-22:01:18] [I] === Performance summary ===\n",
    "[02/22/2024-22:01:18] [I] Throughput: 1498.26 qps\n",
    "```\n",
    "\n",
    "We profile this new engine as we did before with the following command\n",
    "\n",
    "```bash\n",
    "nsys profile --trace=cuda,nvtx,cublas,cudla,cusparse,cudnn,nvmedia --output=model_bn.nvvp /usr/src/tensorrt/bin/trtexec --loadEngine=model_bn.engine --iterations=10 --idleTime=500 --duration=0 --useSpinWait\n",
    "```\n",
    "\n",
    "As we see below, a majority of the model execution now occurs in one large block under the \"Other accelerators API\" row.  This indicates our model is utilizing the DLA much more effectively!\n",
    "\n",
    "Until this point, we've been working with dummy model weights.  **However, to obtain the best performance on the DLA, we need to use INT8 precision for our model.  Reducing the precision of a neural network can impact the accuracy of the model.  To mitigate this effect, it is important to perform calibration.**\n",
    "\n",
    "Let's go over how to train the model, and perform calibration with real data.\n"
   ]
  },
  {
   "cell_type": "markdown",
   "metadata": {},
   "source": [
    "<a id=\"step-6\"></a>\n",
    "## Step 6 - Train the model\n",
    "\n",
    "First, we train the model on the CIFAR10 dataset.  This is a toy image classification dataset, which has examples in PyTorch available from a variety of sources online.  \n",
    "\n",
    "Since this step isn't unique to execution on the DLA, we won't past code inline.  However,\n",
    "we have provided a training script [``train.py``](train.py) that may be used to generate the trained neural network weights.  The usage of ``train.py`` is covered in [``QUICKSTART.md``](QUICKSTART.md).  To train our new batch norm model, we simply call\n",
    "\n",
    "```bash\n",
    "python3 train.py model_bn --checkpoint_path=data/model_bn.pth\n",
    "```\n",
    "\n",
    "The trained model weights are stored at ``model_bn.pth``.  This model reaches an accuracy of roughly ``85%`` on the CIFAR10 test dataset.  While other architectures can obtain better accuracy on this dataset, we've opted for a simple model since our focus only on validating that the DLA workflow and verifying that the calibrated DLA engine obtains similar accuracy to it's PyTorch counterpart.\n",
    "\n",
    "Once we have the trained weights, ``model_bn.pth`` we can export the model to ONNX as before."
   ]
  },
  {
   "cell_type": "code",
   "execution_count": null,
   "metadata": {},
   "outputs": [],
   "source": [
    "model = ModelBN(num_classes=10).cuda()\n",
    "model.load_state_dict(torch.load('model_bn.pth'))\n",
    "\n",
    "torch.onnx.export(\n",
    "    model,\n",
    "    data,\n",
    "    'model_bn.onnx',\n",
    "    input_names=['input'],\n",
    "    output_names=['output'],\n",
    "    dynamic_axes={\n",
    "        'input': {0: 'batch_size'},\n",
    "        'output': {0: 'batch_size'}\n",
    "    }\n",
    ")"
   ]
  },
  {
   "cell_type": "markdown",
   "metadata": {},
   "source": [
    "Now, our trained model, in ONNX representation, is stored at ``model_bn.onnx``.  \n",
    "\n",
    "Let's proceed with optimizing our trained model."
   ]
  },
  {
   "cell_type": "markdown",
   "metadata": {},
   "source": [
    "<a id=\"step-7\"></a>\n",
    "## Step 7 - Optimize the model (using real weights and calibration data)\n",
    "\n",
    "To optimize our trained model, we'll use the TensorRT Python API, rather than trtexec.  The reason for this decision is, that we'll need to provide a Python interface for generating calibration data.\n",
    "\n",
    "To start, we import the TensorRT Python package, and make the required API calls to parse our ONNX model into a TensorRT network.\n"
   ]
  },
  {
   "cell_type": "code",
   "execution_count": null,
   "metadata": {},
   "outputs": [],
   "source": [
    "import tensorrt as trt\n",
    "\n",
    "# create logger\n",
    "logger = trt.Logger(trt.Logger.INFO)\n",
    "\n",
    "# create builder\n",
    "builder = trt.Builder(logger)\n",
    "\n",
    "# create network, enabling explicit batch\n",
    "network = builder.create_network(1 << int(trt.NetworkDefinitionCreationFlag.EXPLICIT_BATCH))\n",
    "\n",
    "# parse the ONNX model to generate the TensorRT network\n",
    "parser = trt.OnnxParser(network, logger)\n",
    "\n",
    "with open(\"model_bn.onnx\", 'rb') as f:\n",
    "    parser.parse(f.read())\n"
   ]
  },
  {
   "cell_type": "markdown",
   "metadata": {},
   "source": [
    "Now, our ``network`` class holds a full representation of our trained model.  This representation however, is not executable.  TensorRT still needs to optimize the model to produce the TensorRT *engine*, which stores the output of our optimization process.  The engine describes which tactics are used to execute the layers in our network, including which sub-graphs are offloaded to the DLA for execution. \n",
    "\n",
    "There are a variety of configuration options we may provide to control the optimization process.  These parameters are largerly controled through a configuration class which may be created as follows.\n"
   ]
  },
  {
   "cell_type": "code",
   "execution_count": null,
   "metadata": {},
   "outputs": [],
   "source": [
    "config = builder.create_builder_config()"
   ]
  },
  {
   "cell_type": "markdown",
   "metadata": {},
   "source": [
    "Now that our ``config`` instance is defined, we'll first set the optimization profile.\n"
   ]
  },
  {
   "cell_type": "code",
   "execution_count": null,
   "metadata": {},
   "outputs": [],
   "source": [
    "batch_size = 32\n",
    "\n",
    "# define the optimization configuration\n",
    "profile = builder.create_optimization_profile()\n",
    "profile.set_shape(\n",
    "    'input',\n",
    "    (batch_size, 3, 32, 32),            # min shape\n",
    "    (batch_size, 3, 32, 32),   # optimal shape\n",
    "    (batch_size, 3, 32, 32)    # max shape\n",
    ")\n",
    "\n",
    "config.add_optimization_profile(profile)"
   ]
  },
  {
   "cell_type": "markdown",
   "metadata": {},
   "source": [
    "This profile determines controls the shapes of input tensors that our final engine will be capable of handling.  These shapes include a minimum, optimal, and maximum shape.  The minimum and maximum shape control which shapes are allowed by the model, while the optimal shape controls which shape is used during the profiling and tactic selection process.  In order for the DLA to be selected as a tactic, we must set all these shapes to be the same.\n",
    "\n",
    "Next, we specify which DLA core we want our model to run on by default, and allow GPU fallback in case DLA layers are not supported.\n"
   ]
  },
  {
   "cell_type": "code",
   "execution_count": null,
   "metadata": {},
   "outputs": [],
   "source": [
    "# https://docs.nvidia.com/deeplearning/tensorrt/api/python_api/infer/Core/BuilderConfig.html#tensorrt.IBuilderConfig\n",
    "config.DLA_core = 0\n",
    "config.set_flag(trt.BuilderFlag.GPU_FALLBACK)"
   ]
  },
  {
   "cell_type": "markdown",
   "metadata": {},
   "source": [
    "Finally, since DLA is supported only for ``INT8`` and ``FP16`` precisions, we enable ``INT8`` precision.\n"
   ]
  },
  {
   "cell_type": "code",
   "execution_count": null,
   "metadata": {},
   "outputs": [],
   "source": [
    "config.set_flag(trt.BuilderFlag.INT8)"
   ]
  },
  {
   "cell_type": "markdown",
   "metadata": {},
   "source": [
    "Next, we create a class ``DatasetCalibrator`` that will be used to provide calibration data to the TensorRT builder.  This class wraps the CIFAR10 dataset we used for training, and implements the IINT8Calibrator interface to provide batches of data for calibration.  By implementing the ``get_batch``, ``get_algorithm``, and ``get_batch_size`` methods of the ``IInt8Calibrator`` interface, our class may now be used by the TensorRT builder.\n"
   ]
  },
  {
   "cell_type": "code",
   "execution_count": null,
   "metadata": {},
   "outputs": [],
   "source": [
    "class DatasetCalibrator(trt.IInt8Calibrator):\n",
    "\n",
    "    def __init__(self,\n",
    "            input, dataset,\n",
    "            algorithm=trt.CalibrationAlgoType.ENTROPY_CALIBRATION_2):\n",
    "        super(DatasetCalibrator, self).__init__()\n",
    "        self.algorithm = algorithm\n",
    "        self.dataset = dataset\n",
    "        self.buffer = torch.zeros_like(input).contiguous()\n",
    "        self.count = 0\n",
    "\n",
    "    def get_batch(self, *args, **kwargs):\n",
    "        if self.count < len(self.dataset):\n",
    "            for buffer_idx in range(self.get_batch_size()):\n",
    "\n",
    "                # get image from dataset\n",
    "                dataset_idx = self.count % len(self.dataset)\n",
    "                image, _ = self.dataset[dataset_idx]\n",
    "                image = image.to(self.buffer.device)\n",
    "\n",
    "                # copy image to buffer\n",
    "                self.buffer[buffer_idx].copy_(image)\n",
    "\n",
    "                # increment total number of images used for calibration\n",
    "                self.count += 1\n",
    "\n",
    "            return [int(self.buffer.data_ptr())]\n",
    "        else:\n",
    "            return []  # returning None or [] signals to TensorRT that calibration is finished\n",
    "\n",
    "    def get_algorithm(self):\n",
    "        return self.algorithm\n",
    "\n",
    "    def get_batch_size(self):\n",
    "        return int(self.buffer.shape[0])\n",
    "\n",
    "    def read_calibration_cache(self, *args, **kwargs):\n",
    "        return None\n",
    "\n",
    "    def write_calibration_cache(self, cache, *args, **kwargs):\n",
    "        pass"
   ]
  },
  {
   "cell_type": "markdown",
   "metadata": {},
   "source": [
    "Next, we instantiate our ``DatasetCalibrator`` using the CIFAR10 training dataset (which is the same that we used for training) and assign it to ``config.int8_calibrator``"
   ]
  },
  {
   "cell_type": "code",
   "execution_count": null,
   "metadata": {},
   "outputs": [],
   "source": [
    "import os\n",
    "import torchvision\n",
    "import torchvision.transforms as transforms\n",
    "\n",
    "transform = transforms.Compose([\n",
    "    transforms.ToTensor(),\n",
    "    transforms.Normalize((0.4914, 0.4822, 0.4465), (0.2023, 0.1994, 0.2010)),\n",
    "])\n",
    "\n",
    "train_dataset = torchvision.datasets.CIFAR10(\n",
    "    root=os.path.join('data', 'cifar10'),\n",
    "    train=True,\n",
    "    download=True,\n",
    "    transform=transform\n",
    ")\n",
    "\n",
    "data = torch.zeros(batch_size, 3, 32, 32).cuda()\n",
    "\n",
    "config.int8_calibrator = DatasetCalibrator(data, train_dataset)"
   ]
  },
  {
   "cell_type": "markdown",
   "metadata": {},
   "source": [
    "Finally, build our TensorRT engine using the network we generated from our ONNX file, and the configuration we defined above.  \n"
   ]
  },
  {
   "cell_type": "code",
   "execution_count": null,
   "metadata": {},
   "outputs": [],
   "source": [
    "engine_bytes = builder.build_serialized_network(network, config)"
   ]
  },
  {
   "cell_type": "markdown",
   "metadata": {},
   "source": [
    "After the optimization process is finished, we save our engine to disk.\n"
   ]
  },
  {
   "cell_type": "code",
   "execution_count": null,
   "metadata": {},
   "outputs": [],
   "source": [
    "with open('model_bn.engine', 'wb') as f:\n",
    "    f.write(engine_bytes)"
   ]
  },
  {
   "cell_type": "markdown",
   "metadata": {},
   "source": [
    "Our optimized, calibrated, INT8 / DLA compatbile TensorRT engine is now stored at ``model_bn.engine``.\n",
    "\n",
    "You could now use this optimized engine with a variety of inferences APIs, such as deepstream, or Triton inference server.\n",
    "\n",
    "Here we'll use the TensorRT Python API to run inference using our model, and evaluate the accuracy on the CIFAR10 test dataset.\n"
   ]
  },
  {
   "cell_type": "markdown",
   "metadata": {},
   "source": [
    "<a id=\"step-8\"></a>\n",
    "## Step 8 - Evaluate the accuracy of the optimized model\n",
    "\n",
    "First, let's define the CIFAR10 test dataset classes."
   ]
  },
  {
   "cell_type": "markdown",
   "metadata": {},
   "source": [
    "Next, let's instantiate the TensorRT runtime, load our saved TensorRT engine, and create the context we'll use for execution."
   ]
  },
  {
   "cell_type": "code",
   "execution_count": null,
   "metadata": {},
   "outputs": [],
   "source": [
    "import tensorrt as trt\n",
    "logger = trt.Logger(trt.Logger.INFO)\n",
    "runtime = trt.Runtime(logger)\n",
    "\n",
    "with open('model_bn.engine', 'rb') as f:\n",
    "    engine_bytes = f.read()\n",
    "    engine = runtime.deserialize_cuda_engine(engine_bytes)\n",
    "\n",
    "context = engine.create_execution_context()"
   ]
  },
  {
   "cell_type": "markdown",
   "metadata": {},
   "source": [
    "Next, we will create buffers to hold our neural network inputs and outputs.  \n",
    "TensorRT engine execution requires that we provide data pointers to GPU memory\n",
    "for the input and output tensors.  We will define these tensors in PyTorch,\n",
    "and then use the ``data_ptr()`` method that PyTorch Tensors provide to get access\n",
    "to the underlying GPU memory pointer."
   ]
  },
  {
   "cell_type": "code",
   "execution_count": null,
   "metadata": {},
   "outputs": [],
   "source": [
    "input_binding_idx = engine.get_binding_index('input')\n",
    "output_binding_idx = engine.get_binding_index('output')\n",
    "\n",
    "input_shape = (batch_size, 3, 32, 32)\n",
    "output_shape = (batch_size, 10)\n",
    "\n",
    "context.set_binding_shape(\n",
    "    input_binding_idx,\n",
    "    input_shape\n",
    ")\n",
    "\n",
    "input_buffer = torch.zeros(input_shape, dtype=torch.float32, device=torch.device('cuda'))\n",
    "output_buffer = torch.zeros(output_shape, dtype=torch.float32, device=torch.device('cuda'))\n",
    "\n",
    "bindings = [None, None]\n",
    "bindings[input_binding_idx] = input_buffer.data_ptr()\n",
    "bindings[output_binding_idx] = output_buffer.data_ptr()"
   ]
  },
  {
   "cell_type": "markdown",
   "metadata": {},
   "source": [
    "### Define the test dataset"
   ]
  },
  {
   "cell_type": "code",
   "execution_count": null,
   "metadata": {},
   "outputs": [],
   "source": [
    "test_dataset = torchvision.datasets.CIFAR10(\n",
    "    root=os.path.join('data', 'cifar10'),\n",
    "    train=False,\n",
    "    download=True,\n",
    "    transform=transform\n",
    ")\n",
    "\n",
    "test_loader = torch.utils.data.DataLoader(\n",
    "    test_dataset,\n",
    "    batch_size=batch_size,\n",
    "    shuffle=False\n",
    ")"
   ]
  },
  {
   "cell_type": "markdown",
   "metadata": {},
   "source": [
    "Finally, we iterate through the data and evaluate the accuracy of our model.\n"
   ]
  },
  {
   "cell_type": "code",
   "execution_count": null,
   "metadata": {},
   "outputs": [],
   "source": [
    "test_accuracy = 0\n",
    "\n",
    "# run through test dataset\n",
    "for image, label in iter(test_loader):\n",
    "\n",
    "    actual_batch_size = int(image.shape[0])\n",
    "\n",
    "    input_buffer[0:actual_batch_size].copy_(image)\n",
    "\n",
    "    context.execute_async_v2(\n",
    "        bindings,\n",
    "        torch.cuda.current_stream().cuda_stream\n",
    "    )\n",
    "\n",
    "    torch.cuda.current_stream().synchronize()\n",
    "\n",
    "    output = output_buffer[0:actual_batch_size]\n",
    "    label = label.cuda()\n",
    "\n",
    "    test_accuracy += int(torch.sum(output.argmax(dim=-1) == label))\n",
    "\n",
    "test_accuracy /= len(test_dataset)\n",
    "\n",
    "print(f'TEST ACCURACY: {test_accuracy}')"
   ]
  },
  {
   "cell_type": "markdown",
   "metadata": {},
   "source": [
    "The accuracy, as before should be approximately still ``85%`` on the CIFAR10 dataset!"
   ]
  },
  {
   "cell_type": "markdown",
   "metadata": {},
   "source": [
    "<a id=\"step-9\"></a>\n",
    "## Step 9 - Modify trained model with ONNX graph surgeon\n",
    "\n",
    "If you've followed the tutorial to this point, you now have a trained ONNX graph, ``model_bn.onnx``, that is largely DLA compatible.  However, one of the final layers ``AdaptiveAvgPool``, which maps to the ONNX layer ``GlobalAveragePool``,\n",
    "is still not supported by DLA.  To demonstrate another method for modifying models for DLA compatibility is to modify\n",
    "the ONNX graph directly.\n",
    "\n",
    "Here, we can replace the ``GlobalAveragePool`` layer, which isn't supported on the DLA, with an ``AveragePool`` layer which is\n",
    "supported on DLA for kernel sizes up to 8.\n",
    "\n",
    "We do so with the following code."
   ]
  },
  {
   "cell_type": "code",
   "execution_count": null,
   "metadata": {},
   "outputs": [],
   "source": [
    "!pip install onnx_graphsurgeon"
   ]
  },
  {
   "cell_type": "code",
   "execution_count": null,
   "metadata": {},
   "outputs": [],
   "source": [
    "import onnx\n",
    "import onnx_graphsurgeon as gs\n",
    "graph = gs.import_onnx(onnx.load('model_bn.onnx'))\n",
    "\n",
    "for node in graph.nodes:\n",
    "    if node.op == 'GlobalAveragePool':\n",
    "        node.op = 'AveragePool'\n",
    "        node.attrs['kernel_shape'] = [2, 2]\n",
    "\n",
    "onnx.save(gs.export_onnx(graph), 'model_bn_modified.onnx')"
   ]
  },
  {
   "cell_type": "markdown",
   "metadata": {},
   "source": [
    "After optimizing our modified ONNX model with trtexec, we see the following output.\n",
    "\n",
    "```bash\n",
    "[02/22/2024-22:39:23] [I] [TRT] ---------- Layers Running on DLA ----------\n",
    "[02/22/2024-22:39:23] [I] [TRT] [DlaLayer] {ForeignNode[/cnn/cnn.0/Conv.../linear/Gemm]}\n",
    "[02/22/2024-22:39:23] [I] [TRT] ---------- Layers Running on GPU ----------\n",
    "[02/22/2024-22:39:23] [I] [TRT] [GpuLayer] SHUFFLE: reshape_after_/linear/Gemm\n",
    "```\n",
    "\n",
    "Now, one larger sugraph is running on the DLA, rather than two sugraphs split apart by the unsupported pooling layer!\n",
    "\n",
    "There are often many ways you can creatively replace unsupported layers with other layers that are supported.  It largely depends on the exact model and usage.  We hope this helps give you ideas for how to better optimize your models for DLA.\n",
    "\n",
    "That concludes this tutorial.  We hope this helps you get started using the DLA on Jetson."
   ]
  }
 ],
 "env": {
  "PYTHONPATH": "/usr/lib/python3.8/dist-packages"
 },
 "metadata": {
  "kernelspec": {
   "display_name": "base",
   "language": "python",
   "name": "python3"
  },
  "language_info": {
   "codemirror_mode": {
    "name": "ipython",
    "version": 3
   },
   "file_extension": ".py",
   "mimetype": "text/x-python",
   "name": "python",
   "nbconvert_exporter": "python",
   "pygments_lexer": "ipython3",
   "version": "3.8.18"
  }
 },
 "nbformat": 4,
 "nbformat_minor": 2
}
